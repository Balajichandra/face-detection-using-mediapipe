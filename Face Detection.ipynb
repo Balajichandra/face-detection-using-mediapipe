{
 "cells": [
  {
   "cell_type": "code",
   "execution_count": 1,
   "id": "638cd0ae",
   "metadata": {},
   "outputs": [],
   "source": [
    "import mediapipe as mp\n",
    "import numpy as np\n",
    "import cv2"
   ]
  },
  {
   "cell_type": "code",
   "execution_count": 2,
   "id": "5c6261b9",
   "metadata": {},
   "outputs": [],
   "source": [
    "cap = cv2.VideoCapture(0)\n",
    "face = mp.solutions.face_detection\n",
    "face_mesh = face.FaceDetection()\n",
    "draw = mp.solutions.drawing_utils\n",
    "while True:\n",
    "    _,frm = cap.read()\n",
    "    rgb = cv2.cvtColor(frm,cv2.COLOR_BGR2RGB)\n",
    "    op = face_mesh.process(rgb)\n",
    "    if op.detections:\n",
    "        for detections in op.detections:\n",
    "            draw.draw_detection(frm,detections)\n",
    "    cv2.imshow(\"window\",frm)\n",
    "    if cv2.waitKey(1) == 27:\n",
    "        cv2.destroyAllWindows()\n",
    "        cap.release()\n",
    "        break"
   ]
  },
  {
   "cell_type": "code",
   "execution_count": null,
   "id": "e06d6e86",
   "metadata": {},
   "outputs": [],
   "source": []
  }
 ],
 "metadata": {
  "kernelspec": {
   "display_name": "Python 3",
   "language": "python",
   "name": "python3"
  },
  "language_info": {
   "codemirror_mode": {
    "name": "ipython",
    "version": 3
   },
   "file_extension": ".py",
   "mimetype": "text/x-python",
   "name": "python",
   "nbconvert_exporter": "python",
   "pygments_lexer": "ipython3",
   "version": "3.6.13"
  }
 },
 "nbformat": 4,
 "nbformat_minor": 5
}
